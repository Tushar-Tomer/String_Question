{
 "cells": [
  {
   "cell_type": "markdown",
   "id": "b1a4142e",
   "metadata": {},
   "source": [
    "# How To Insert And Remove A Comma after Two string ?"
   ]
  },
  {
   "cell_type": "code",
   "execution_count": 1,
   "id": "4909a42e",
   "metadata": {},
   "outputs": [
    {
     "data": {
      "text/plain": [
       "'11,22334455'"
      ]
     },
     "execution_count": 1,
     "metadata": {},
     "output_type": "execute_result"
    }
   ],
   "source": [
    "# Insert Comma\n",
    "a='1122334455'\n",
    "l=list(a)\n",
    "l.insert(2,\",\") # 2 is our index number\n",
    "s=\"\".join(l)\n",
    "s"
   ]
  },
  {
   "cell_type": "code",
   "execution_count": 3,
   "id": "b627bb71",
   "metadata": {},
   "outputs": [
    {
     "data": {
      "text/plain": [
       "'1122334455'"
      ]
     },
     "execution_count": 3,
     "metadata": {},
     "output_type": "execute_result"
    }
   ],
   "source": [
    "# Remove Comma\n",
    "b='11,22334455'\n",
    "x=list(b)\n",
    "x.remove(\",\")\n",
    "y=\"\".join(x)\n",
    "y"
   ]
  }
 ],
 "metadata": {
  "kernelspec": {
   "display_name": "Python 3 (ipykernel)",
   "language": "python",
   "name": "python3"
  },
  "language_info": {
   "codemirror_mode": {
    "name": "ipython",
    "version": 3
   },
   "file_extension": ".py",
   "mimetype": "text/x-python",
   "name": "python",
   "nbconvert_exporter": "python",
   "pygments_lexer": "ipython3",
   "version": "3.9.12"
  }
 },
 "nbformat": 4,
 "nbformat_minor": 5
}
